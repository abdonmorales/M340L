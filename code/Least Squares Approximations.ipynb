{
 "cells": [
  {
   "cell_type": "code",
   "execution_count": 1,
   "id": "a2ebd4d4-4941-4389-b982-ed40ced861cf",
   "metadata": {},
   "outputs": [
    {
     "data": {
      "text/latex": [
       "$\\displaystyle \\left[\\begin{matrix}1 & -1\\\\0 & 2\\\\2 & -1\\end{matrix}\\right]$"
      ],
      "text/plain": [
       "⎡1  -1⎤\n",
       "⎢     ⎥\n",
       "⎢0  2 ⎥\n",
       "⎢     ⎥\n",
       "⎣2  -1⎦"
      ]
     },
     "metadata": {},
     "output_type": "display_data"
    },
    {
     "data": {
      "text/latex": [
       "$\\displaystyle \\left[\\begin{matrix}3\\\\-1\\\\2\\end{matrix}\\right]$"
      ],
      "text/plain": [
       "⎡3 ⎤\n",
       "⎢  ⎥\n",
       "⎢-1⎥\n",
       "⎢  ⎥\n",
       "⎣2 ⎦"
      ]
     },
     "metadata": {},
     "output_type": "display_data"
    },
    {
     "data": {
      "text/latex": [
       "$\\displaystyle \\left[\\begin{matrix}5 & -3\\\\-3 & 6\\end{matrix}\\right]$"
      ],
      "text/plain": [
       "⎡5   -3⎤\n",
       "⎢      ⎥\n",
       "⎣-3  6 ⎦"
      ]
     },
     "metadata": {},
     "output_type": "display_data"
    },
    {
     "data": {
      "text/latex": [
       "$\\displaystyle \\left[\\begin{matrix}7\\\\-7\\end{matrix}\\right]$"
      ],
      "text/plain": [
       "⎡7 ⎤\n",
       "⎢  ⎥\n",
       "⎣-7⎦"
      ]
     },
     "metadata": {},
     "output_type": "display_data"
    },
    {
     "data": {
      "text/latex": [
       "$\\displaystyle \\left[\\begin{matrix}1\\\\- \\frac{2}{3}\\end{matrix}\\right]$"
      ],
      "text/plain": [
       "⎡ 1  ⎤\n",
       "⎢    ⎥\n",
       "⎣-2/3⎦"
      ]
     },
     "metadata": {},
     "output_type": "display_data"
    },
    {
     "data": {
      "text/latex": [
       "$\\displaystyle \\left[\\begin{matrix}1.0\\\\-0.666666666666667\\end{matrix}\\right]$"
      ],
      "text/plain": [
       "⎡       1.0        ⎤\n",
       "⎢                  ⎥\n",
       "⎣-0.666666666666667⎦"
      ]
     },
     "metadata": {},
     "output_type": "display_data"
    },
    {
     "data": {
      "text/latex": [
       "$\\displaystyle \\left[\\begin{matrix}\\frac{5}{3}\\\\- \\frac{4}{3}\\\\\\frac{8}{3}\\end{matrix}\\right]$"
      ],
      "text/plain": [
       "⎡5/3 ⎤\n",
       "⎢    ⎥\n",
       "⎢-4/3⎥\n",
       "⎢    ⎥\n",
       "⎣8/3 ⎦"
      ]
     },
     "metadata": {},
     "output_type": "display_data"
    },
    {
     "data": {
      "image/png": "[encoded data removed]",
      "text/latex": [
       "$\\displaystyle \\frac{\\sqrt{21}}{3}$"
      ],
      "text/plain": [
       "√21\n",
       "───\n",
       " 3 "
      ]
     },
     "metadata": {},
     "output_type": "display_data"
    },
    {
     "data": {
      "text/latex": [
       "$\\displaystyle \\left[\\begin{matrix}1 & 1\\\\1 & 2\\\\1 & 3\\\\1 & 4\\\\1 & 5\\end{matrix}\\right]$"
      ],
      "text/plain": [
       "⎡1  1⎤\n",
       "⎢    ⎥\n",
       "⎢1  2⎥\n",
       "⎢    ⎥\n",
       "⎢1  3⎥\n",
       "⎢    ⎥\n",
       "⎢1  4⎥\n",
       "⎢    ⎥\n",
       "⎣1  5⎦"
      ]
     },
     "metadata": {},
     "output_type": "display_data"
    },
    {
     "data": {
      "text/latex": [
       "$\\displaystyle \\left[\\begin{matrix}1\\\\1.5\\\\3\\\\4.5\\\\7\\end{matrix}\\right]$"
      ],
      "text/plain": [
       "⎡ 1 ⎤\n",
       "⎢   ⎥\n",
       "⎢1.5⎥\n",
       "⎢   ⎥\n",
       "⎢ 3 ⎥\n",
       "⎢   ⎥\n",
       "⎢4.5⎥\n",
       "⎢   ⎥\n",
       "⎣ 7 ⎦"
      ]
     },
     "metadata": {},
     "output_type": "display_data"
    },
    {
     "data": {
      "text/latex": [
       "$\\displaystyle \\left[\\begin{matrix}5 & 15\\\\15 & 55\\end{matrix}\\right]$"
      ],
      "text/plain": [
       "⎡5   15⎤\n",
       "⎢      ⎥\n",
       "⎣15  55⎦"
      ]
     },
     "metadata": {},
     "output_type": "display_data"
    },
    {
     "data": {
      "text/latex": [
       "$\\displaystyle \\left[\\begin{matrix}17.0\\\\66.0\\end{matrix}\\right]$"
      ],
      "text/plain": [
       "⎡17.0⎤\n",
       "⎢    ⎥\n",
       "⎣66.0⎦"
      ]
     },
     "metadata": {},
     "output_type": "display_data"
    },
    {
     "data": {
      "text/latex": [
       "$\\displaystyle \\left[\\begin{matrix}-1.1\\\\1.5\\end{matrix}\\right]$"
      ],
      "text/plain": [
       "⎡-1.1⎤\n",
       "⎢    ⎥\n",
       "⎣1.5 ⎦"
      ]
     },
     "metadata": {},
     "output_type": "display_data"
    },
    {
     "data": {
      "image/png": "[encoded data removed]",
      "text/latex": [
       "$\\displaystyle 1.09544511501033$"
      ],
      "text/plain": [
       "1.09544511501033"
      ]
     },
     "metadata": {},
     "output_type": "display_data"
    },
    {
     "data": {
      "text/latex": [
       "$\\displaystyle \\left[\\begin{matrix}1 & 1 & 1\\\\1 & 2 & 4\\\\1 & 3 & 9\\\\1 & 4 & 16\\\\1 & 5 & 25\\end{matrix}\\right]$"
      ],
      "text/plain": [
       "⎡1  1  1 ⎤\n",
       "⎢        ⎥\n",
       "⎢1  2  4 ⎥\n",
       "⎢        ⎥\n",
       "⎢1  3  9 ⎥\n",
       "⎢        ⎥\n",
       "⎢1  4  16⎥\n",
       "⎢        ⎥\n",
       "⎣1  5  25⎦"
      ]
     },
     "metadata": {},
     "output_type": "display_data"
    },
    {
     "data": {
      "text/latex": [
       "$\\displaystyle \\left[\\begin{matrix}1\\\\1.5\\\\3\\\\4.5\\\\7\\end{matrix}\\right]$"
      ],
      "text/plain": [
       "⎡ 1 ⎤\n",
       "⎢   ⎥\n",
       "⎢1.5⎥\n",
       "⎢   ⎥\n",
       "⎢ 3 ⎥\n",
       "⎢   ⎥\n",
       "⎢4.5⎥\n",
       "⎢   ⎥\n",
       "⎣ 7 ⎦"
      ]
     },
     "metadata": {},
     "output_type": "display_data"
    },
    {
     "data": {
      "text/latex": [
       "$\\displaystyle \\left[\\begin{matrix}5 & 15 & 55\\\\15 & 55 & 225\\\\55 & 225 & 979\\end{matrix}\\right]$"
      ],
      "text/plain": [
       "⎡5   15   55 ⎤\n",
       "⎢            ⎥\n",
       "⎢15  55   225⎥\n",
       "⎢            ⎥\n",
       "⎣55  225  979⎦"
      ]
     },
     "metadata": {},
     "output_type": "display_data"
    },
    {
     "data": {
      "text/latex": [
       "$\\displaystyle \\left[\\begin{matrix}17.0\\\\66.0\\\\281.0\\end{matrix}\\right]$"
      ],
      "text/plain": [
       "⎡17.0 ⎤\n",
       "⎢     ⎥\n",
       "⎢66.0 ⎥\n",
       "⎢     ⎥\n",
       "⎣281.0⎦"
      ]
     },
     "metadata": {},
     "output_type": "display_data"
    },
    {
     "data": {
      "text/latex": [
       "$\\displaystyle \\left[\\begin{matrix}0.9\\\\-0.2143\\\\0.2857\\end{matrix}\\right]$"
      ],
      "text/plain": [
       "⎡  0.9  ⎤\n",
       "⎢       ⎥\n",
       "⎢-0.2143⎥\n",
       "⎢       ⎥\n",
       "⎣0.2857 ⎦"
      ]
     },
     "metadata": {},
     "output_type": "display_data"
    },
    {
     "data": {
      "image/png": "[encoded data removed]",
      "text/latex": [
       "$\\displaystyle 0.239045721866879$"
      ],
      "text/plain": [
       "0.239045721866879"
      ]
     },
     "metadata": {},
     "output_type": "display_data"
    },
    {
     "data": {
      "image/png": "[encoded data removed]",
      "text/plain": [
       "<Figure size 600x600 with 1 Axes>"
      ]
     },
     "metadata": {},
     "output_type": "display_data"
    },
    {
     "data": {
      "text/latex": [
       "$\\displaystyle \\left[\\begin{matrix}0.54030230586814 & 0.841470984807897\\\\0.0707372016677029 & 0.997494986604054\\\\-0.416146836547142 & 0.909297426825682\\\\-0.801143615546934 & 0.598472144103956\\\\-0.989992496600445 & 0.141120008059867\\\\-0.936456687290796 & -0.35078322768962\\\\-0.653643620863612 & -0.756802495307928\\\\-0.21079579943078 & -0.977530117665097\\\\0.283662185463226 & -0.958924274663138\\\\0.70866977429126 & -0.705540325570392\\end{matrix}\\right]$"
      ],
      "text/plain": [
       "⎡ 0.54030230586814   0.841470984807897 ⎤\n",
       "⎢                                      ⎥\n",
       "⎢0.0707372016677029  0.997494986604054 ⎥\n",
       "⎢                                      ⎥\n",
       "⎢-0.416146836547142  0.909297426825682 ⎥\n",
       "⎢                                      ⎥\n",
       "⎢-0.801143615546934  0.598472144103956 ⎥\n",
       "⎢                                      ⎥\n",
       "⎢-0.989992496600445  0.141120008059867 ⎥\n",
       "⎢                                      ⎥\n",
       "⎢-0.936456687290796  -0.35078322768962 ⎥\n",
       "⎢                                      ⎥\n",
       "⎢-0.653643620863612  -0.756802495307928⎥\n",
       "⎢                                      ⎥\n",
       "⎢-0.21079579943078   -0.977530117665097⎥\n",
       "⎢                                      ⎥\n",
       "⎢0.283662185463226   -0.958924274663138⎥\n",
       "⎢                                      ⎥\n",
       "⎣ 0.70866977429126   -0.705540325570392⎦"
      ]
     },
     "metadata": {},
     "output_type": "display_data"
    },
    {
     "data": {
      "text/latex": [
       "$\\displaystyle \\left[\\begin{matrix}1.5\\\\3\\\\3.5\\\\3\\\\2\\\\1\\\\-1\\\\-2.5\\\\-3.5\\\\-3.5\\end{matrix}\\right]$"
      ],
      "text/plain": [
       "⎡1.5 ⎤\n",
       "⎢    ⎥\n",
       "⎢ 3  ⎥\n",
       "⎢    ⎥\n",
       "⎢3.5 ⎥\n",
       "⎢    ⎥\n",
       "⎢ 3  ⎥\n",
       "⎢    ⎥\n",
       "⎢ 2  ⎥\n",
       "⎢    ⎥\n",
       "⎢ 1  ⎥\n",
       "⎢    ⎥\n",
       "⎢ -1 ⎥\n",
       "⎢    ⎥\n",
       "⎢-2.5⎥\n",
       "⎢    ⎥\n",
       "⎢-3.5⎥\n",
       "⎢    ⎥\n",
       "⎣-3.5⎦"
      ]
     },
     "metadata": {},
     "output_type": "display_data"
    },
    {
     "data": {
      "text/latex": [
       "$\\displaystyle \\left[\\begin{matrix}4.023337822832 & -0.215136410070295\\\\-0.215136410070295 & 5.976662177168\\end{matrix}\\right]$"
      ],
      "text/plain": [
       "⎡  4.023337822832    -0.215136410070295⎤\n",
       "⎢                                      ⎥\n",
       "⎣-0.215136410070295    5.976662177168  ⎦"
      ]
     },
     "metadata": {},
     "output_type": "display_data"
    },
    {
     "data": {
      "text/latex": [
       "$\\displaystyle \\left[\\begin{matrix}-8.04625013094231\\\\18.1903595419439\\end{matrix}\\right]$"
      ],
      "text/plain": [
       "⎡-8.04625013094231⎤\n",
       "⎢                 ⎥\n",
       "⎣18.1903595419439 ⎦"
      ]
     },
     "metadata": {},
     "output_type": "display_data"
    },
    {
     "data": {
      "text/latex": [
       "$\\displaystyle \\left[\\begin{matrix}-1.84069130077589\\\\2.97730728221937\\end{matrix}\\right]$"
      ],
      "text/plain": [
       "⎡-1.84069130077589⎤\n",
       "⎢                 ⎥\n",
       "⎣2.97730728221937 ⎦"
      ]
     },
     "metadata": {},
     "output_type": "display_data"
    },
    {
     "data": {
      "image/png": "[encoded data removed]",
      "text/latex": [
       "$\\displaystyle 0.281047449689394$"
      ],
      "text/plain": [
       "0.281047449689394"
      ]
     },
     "metadata": {},
     "output_type": "display_data"
    },
    {
     "data": {
      "text/latex": [
       "$\\displaystyle \\left[\\begin{matrix}1 & 1.0 & 1.0 & 1.0\\\\1 & 1.5 & 2.25 & 3.375\\\\1 & 2.0 & 4.0 & 8.0\\\\1 & 2.5 & 6.25 & 15.625\\\\1 & 3.0 & 9.0 & 27.0\\\\1 & 3.5 & 12.25 & 42.875\\\\1 & 4.0 & 16.0 & 64.0\\\\1 & 4.5 & 20.25 & 91.125\\\\1 & 5.0 & 25.0 & 125.0\\\\1 & 5.5 & 30.25 & 166.375\\end{matrix}\\right]$"
      ],
      "text/plain": [
       "⎡1  1.0   1.0     1.0  ⎤\n",
       "⎢                      ⎥\n",
       "⎢1  1.5  2.25    3.375 ⎥\n",
       "⎢                      ⎥\n",
       "⎢1  2.0   4.0     8.0  ⎥\n",
       "⎢                      ⎥\n",
       "⎢1  2.5  6.25   15.625 ⎥\n",
       "⎢                      ⎥\n",
       "⎢1  3.0   9.0    27.0  ⎥\n",
       "⎢                      ⎥\n",
       "⎢1  3.5  12.25  42.875 ⎥\n",
       "⎢                      ⎥\n",
       "⎢1  4.0  16.0    64.0  ⎥\n",
       "⎢                      ⎥\n",
       "⎢1  4.5  20.25  91.125 ⎥\n",
       "⎢                      ⎥\n",
       "⎢1  5.0  25.0    125.0 ⎥\n",
       "⎢                      ⎥\n",
       "⎣1  5.5  30.25  166.375⎦"
      ]
     },
     "metadata": {},
     "output_type": "display_data"
    },
    {
     "data": {
      "text/latex": [
       "$\\displaystyle \\left[\\begin{matrix}1.5\\\\3\\\\3.5\\\\3\\\\2\\\\1\\\\-1\\\\-2.5\\\\-3.5\\\\-3.5\\end{matrix}\\right]$"
      ],
      "text/plain": [
       "⎡1.5 ⎤\n",
       "⎢    ⎥\n",
       "⎢ 3  ⎥\n",
       "⎢    ⎥\n",
       "⎢3.5 ⎥\n",
       "⎢    ⎥\n",
       "⎢ 3  ⎥\n",
       "⎢    ⎥\n",
       "⎢ 2  ⎥\n",
       "⎢    ⎥\n",
       "⎢ 1  ⎥\n",
       "⎢    ⎥\n",
       "⎢ -1 ⎥\n",
       "⎢    ⎥\n",
       "⎢-2.5⎥\n",
       "⎢    ⎥\n",
       "⎢-3.5⎥\n",
       "⎢    ⎥\n",
       "⎣-3.5⎦"
      ]
     },
     "metadata": {},
     "output_type": "display_data"
    },
    {
     "data": {
      "text/latex": [
       "$\\displaystyle \\left[\\begin{matrix}10 & 32.5 & 126.25 & 544.375\\\\32.5 & 126.25 & 544.375 & 2498.3125\\\\126.25 & 544.375 & 2498.3125 & 11933.59375\\\\544.375 & 2498.3125 & 11933.59375 & 58593.203125\\end{matrix}\\right]$"
      ],
      "text/plain": [
       "⎡  10       32.5       126.25       544.375   ⎤\n",
       "⎢                                             ⎥\n",
       "⎢ 32.5     126.25      544.375     2498.3125  ⎥\n",
       "⎢                                             ⎥\n",
       "⎢126.25    544.375    2498.3125   11933.59375 ⎥\n",
       "⎢                                             ⎥\n",
       "⎣544.375  2498.3125  11933.59375  58593.203125⎦"
      ]
     },
     "metadata": {},
     "output_type": "display_data"
    },
    {
     "data": {
      "text/latex": [
       "$\\displaystyle \\left[\\begin{matrix}3.5\\\\-22.0\\\\-188.75\\\\-1128.25\\end{matrix}\\right]$"
      ],
      "text/plain": [
       "⎡  3.5   ⎤\n",
       "⎢        ⎥\n",
       "⎢ -22.0  ⎥\n",
       "⎢        ⎥\n",
       "⎢-188.75 ⎥\n",
       "⎢        ⎥\n",
       "⎣-1128.25⎦"
      ]
     },
     "metadata": {},
     "output_type": "display_data"
    },
    {
     "data": {
      "text/latex": [
       "$\\displaystyle \\left[\\begin{matrix}-6.42272727272724\\\\11.4193861693861\\\\-3.92424242424241\\\\0.352758352758352\\end{matrix}\\right]$"
      ],
      "text/plain": [
       "⎡-6.42272727272724⎤\n",
       "⎢                 ⎥\n",
       "⎢11.4193861693861 ⎥\n",
       "⎢                 ⎥\n",
       "⎢-3.92424242424241⎥\n",
       "⎢                 ⎥\n",
       "⎣0.352758352758352⎦"
      ]
     },
     "metadata": {},
     "output_type": "display_data"
    },
    {
     "data": {
      "image/png": "[encoded data removed]",
      "text/latex": [
       "$\\displaystyle 0.254895104895104$"
      ],
      "text/plain": [
       "0.254895104895104"
      ]
     },
     "metadata": {},
     "output_type": "display_data"
    },
    {
     "data": {
      "image/png": "[encoded data removed]",
      "text/plain": [
       "<Figure size 600x600 with 1 Axes>"
      ]
     },
     "metadata": {},
     "output_type": "display_data"
    }
   ],
   "source": [
    "import numpy as np\n",
    "from numpy import linalg\n",
    "from sympy import * \n",
    "import matplotlib.pyplot as plt\n",
    "%matplotlib inline\n",
    "init_printing(pretty_print=True, use_latex=True)\n",
    "from scipy.linalg import norm\n",
    "\n",
    "#A = Matrix(5,4,[1,1,0,0,0,1,0,1,1,0,1,0,0,0,1,-1,1,0,0,-1])\n",
    "#b = Matrix(5,1,[2,1,0,1,2])\n",
    "A = Matrix([[1,-1],[0,2],[2,-1]])\n",
    "b = Matrix([[3],[-1],[2]])\n",
    "#A = Matrix([[1,2],[-2,-4],[1,2]])\n",
    "#b = Matrix(3,1,[1,1,3])\n",
    "#A = Matrix(5,3,[1,-3,8,2,4,-7,0,2,1,1,3,-5,1,-1,-3])\n",
    "#b = Matrix(5,1,[6,0,-5,8,7])\n",
    "#A = Matrix(4,3,[2,-1,1,1,1,2,0,1,1,1,-2,-1])\n",
    "#b = Matrix(4,1,[1,2,3,-1])\n",
    "display(A)\n",
    "display(b)\n",
    "AA = A.T*A\n",
    "display(AA)\n",
    "bb = A.T*b\n",
    "display(bb)\n",
    "if AA.det() != 0:\n",
    "    xhat=AA.solve(bb,method='GJ')\n",
    "    display(xhat)\n",
    "    display(xhat.evalf())\n",
    "    display(A*xhat)\n",
    "    display((b-A*xhat).norm())\n",
    "else:\n",
    "    C = AA.col_insert(4,bb)\n",
    "    display(C)\n",
    "    display(Matrix.rref(C,pivots=false))\n",
    "A.solve_least_squares(b)\n",
    "\n",
    "xcoords=Matrix([1,2,3,4,5])\n",
    "ycoords=Matrix([1,1.5,3,4.5,7])\n",
    "\n",
    "A=zeros(5,2)\n",
    "for i in range(0,5):\n",
    "    A[i,0]=1\n",
    "    A[i,1]=xcoords[i]\n",
    "b=ycoords    \n",
    "display(A)\n",
    "display(b)\n",
    "AA = A.T*A\n",
    "display(AA)\n",
    "bb = A.T*b\n",
    "display(bb)\n",
    "xhat=AA.solve(bb,method='GJ')\n",
    "display(xhat.evalf(4))\n",
    "display((A*xhat-b).norm())\n",
    "\n",
    "samples = 1000 # number of samples across range\n",
    "x_min = 0\n",
    "x_max = 5\n",
    "x = np.linspace(x_min, x_max, samples)\n",
    "f1 = xhat[0]+xhat[1]*x\n",
    "\n",
    "A=zeros(5,3)\n",
    "for i in range(0,5):\n",
    "    A[i,0]=1\n",
    "    A[i,1]=xcoords[i]\n",
    "    A[i,2]=xcoords[i]**2\n",
    "b=ycoords    \n",
    "display(A)\n",
    "display(b)\n",
    "AA = A.T*A\n",
    "display(AA)\n",
    "bb = A.T*b\n",
    "display(bb)\n",
    "xhat=AA.solve(bb,method='GJ')\n",
    "display(xhat.evalf(4))\n",
    "display((A*xhat-b).norm())\n",
    "\n",
    "f2 = xhat[0]+xhat[1]*x+xhat[2]*x**2\n",
    "\n",
    "plt.figure(figsize=(6, 6))\n",
    "plt.plot(x, f1, label=\"Linear Interpolant\")\n",
    "plt.plot(x, f2, label=\"Quadratic Interpolant\")\n",
    "\n",
    "plt.scatter(xcoords, ycoords, label='Set of Points')\n",
    "\n",
    "plt.xlabel(\"$x$\")\n",
    "plt.ylabel(\"$y$\")\n",
    "plt.legend(loc='upper left',prop={'size':10})\n",
    "plt.title('Scatter plot mixed with function')\n",
    "\n",
    "plt.grid(which='major', alpha=0.25)\n",
    "plt.grid(which='minor', alpha=0.0625)\n",
    "plt.minorticks_on()\n",
    "plt.show()\n",
    "\n",
    "xcoords=zeros(10,1)\n",
    "for i in range(0,10):\n",
    "    xcoords[i]=1+0.5*i\n",
    "ycoords=Matrix([1.5,3,3.5,3,2,1,-1,-2.5,-3.5,-3.5])\n",
    "\n",
    "A=zeros(10,2)\n",
    "for i in range(0,10):\n",
    "    A[i,0]=cos(xcoords[i])\n",
    "    A[i,1]=sin(xcoords[i])\n",
    "    #A[i,0]=1\n",
    "    #A[i,1]=xcoords[i]\n",
    "    #A[i,2]=xcoords[i]**2\n",
    "    #A[i,3]=xcoords[i]**3\n",
    "    #A[i,4]=xcoords[i]**4\n",
    "    #A[i,5]=xcoords[i]**5\n",
    "b=ycoords    \n",
    "display(A)\n",
    "display(b)\n",
    "AA = A.T*A\n",
    "display(AA)\n",
    "bb = A.T*b\n",
    "display(bb)\n",
    "xhat=AA.solve(bb,method='GJ')\n",
    "display(xhat.evalf())\n",
    "display(((A*xhat-b).norm()**2).evalf())\n",
    "#A.solve_least_squares(b)\n",
    "\n",
    "samples = 1000 # number of samples across range\n",
    "x_min = 0\n",
    "x_max = 6\n",
    "x = np.linspace(x_min, x_max, samples)\n",
    "f1 = xhat[0]*np.cos(x)+xhat[1]*np.sin(x)\n",
    "\n",
    "A=zeros(10,4)\n",
    "for i in range(0,10):\n",
    "    #A[i,0]=cos(xcoords[i])\n",
    "    #A[i,1]=sin(xcoords[i])\n",
    "    A[i,0]=1\n",
    "    A[i,1]=xcoords[i]\n",
    "    A[i,2]=xcoords[i]**2\n",
    "    A[i,3]=xcoords[i]**3\n",
    "    #A[i,4]=xcoords[i]**4\n",
    "    #A[i,5]=xcoords[i]**5\n",
    "b=ycoords    \n",
    "display(A)\n",
    "display(b)\n",
    "AA = A.T*A\n",
    "display(AA)\n",
    "bb = A.T*b\n",
    "display(bb)\n",
    "xhat=AA.solve(bb,method='GJ')\n",
    "display(xhat.evalf())\n",
    "display(((A*xhat-b).norm()**2).evalf())\n",
    "\n",
    "f2=xhat[0]+xhat[1]*x+xhat[2]*x**2+xhat[3]*x**3#+xhat[4]*x**4+xhat[5]*x**5\n",
    "\n",
    "plt.figure(figsize=(6, 6))\n",
    "plt.plot(x, f1)\n",
    "plt.plot(x, f2)\n",
    "\n",
    "plt.scatter(xcoords, ycoords, label='Set of Points')\n",
    "\n",
    "plt.xlabel(\"$x$\")\n",
    "plt.ylabel(\"$y$\")\n",
    "plt.legend(loc='upper left',prop={'size':10})\n",
    "\n",
    "plt.grid(which='major', alpha=0.25)\n",
    "plt.grid(which='minor', alpha=0.0625)\n",
    "plt.minorticks_on()\n",
    "plt.show()"
   ]
  }
 ],
 "metadata": {
  "kernelspec": {
   "display_name": "Python 3 (ipykernel)",
   "language": "python",
   "name": "python3"
  },
  "language_info": {
   "codemirror_mode": {
    "name": "ipython",
    "version": 3
   },
   "file_extension": ".py",
   "mimetype": "text/x-python",
   "name": "python",
   "nbconvert_exporter": "python",
   "pygments_lexer": "ipython3",
   "version": "3.10.13"
  }
 },
 "nbformat": 4,
 "nbformat_minor": 5
}
